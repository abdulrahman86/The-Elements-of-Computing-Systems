{
 "cells": [
  {
   "cell_type": "code",
   "execution_count": null,
   "metadata": {
    "collapsed": true
   },
   "outputs": [],
   "source": [
    "code = \"/home/coykto/PycharmProjects/Rect.hack\"\n",
    "code_to_check = \"/home/coykto/PycharmProjects/RectRESULT.hack\"\n",
    "\n",
    "code_lines = []\n",
    "check_lines = []\n",
    "with open(code) as source:\n",
    "    code_lines = source.readlines()\n",
    "\n",
    "with open(code_to_check) as source:\n",
    "    check_lines = source.readlines()"
   ]
  }
 ],
 "metadata": {
  "kernelspec": {
   "display_name": "Python 3",
   "language": "python",
   "name": "python3"
  },
  "language_info": {
   "codemirror_mode": {
    "name": "ipython",
    "version": 3
   },
   "file_extension": ".py",
   "mimetype": "text/x-python",
   "name": "python",
   "nbconvert_exporter": "python",
   "pygments_lexer": "ipython3",
   "version": "3.6.2"
  }
 },
 "nbformat": 4,
 "nbformat_minor": 2
}
